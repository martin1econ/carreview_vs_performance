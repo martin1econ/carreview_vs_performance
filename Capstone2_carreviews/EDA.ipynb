{
 "cells": [
  {
   "cell_type": "code",
   "execution_count": 1,
   "id": "c5a66456",
   "metadata": {},
   "outputs": [],
   "source": [
    "#necessary libraries \n",
    "\n",
    "import pandas as pd\n",
    "import numpy as np\n",
    "import seaborn as sns\n",
    "import matplotlib.pyplot as plt"
   ]
  },
  {
   "cell_type": "code",
   "execution_count": 2,
   "id": "6a680aea",
   "metadata": {},
   "outputs": [
    {
     "data": {
      "text/html": [
       "<div>\n",
       "<style scoped>\n",
       "    .dataframe tbody tr th:only-of-type {\n",
       "        vertical-align: middle;\n",
       "    }\n",
       "\n",
       "    .dataframe tbody tr th {\n",
       "        vertical-align: top;\n",
       "    }\n",
       "\n",
       "    .dataframe thead th {\n",
       "        text-align: right;\n",
       "    }\n",
       "</style>\n",
       "<table border=\"1\" class=\"dataframe\">\n",
       "  <thead>\n",
       "    <tr style=\"text-align: right;\">\n",
       "      <th></th>\n",
       "      <th>Date</th>\n",
       "      <th>Symbol</th>\n",
       "      <th>Open</th>\n",
       "    </tr>\n",
       "  </thead>\n",
       "  <tbody>\n",
       "    <tr>\n",
       "      <th>0</th>\n",
       "      <td>2009-12-31</td>\n",
       "      <td>TM</td>\n",
       "      <td>85.160004</td>\n",
       "    </tr>\n",
       "    <tr>\n",
       "      <th>1</th>\n",
       "      <td>2009-12-31</td>\n",
       "      <td>F</td>\n",
       "      <td>10.040000</td>\n",
       "    </tr>\n",
       "    <tr>\n",
       "      <th>2</th>\n",
       "      <td>2009-12-31</td>\n",
       "      <td>HMC</td>\n",
       "      <td>33.840000</td>\n",
       "    </tr>\n",
       "    <tr>\n",
       "      <th>3</th>\n",
       "      <td>2009-12-31</td>\n",
       "      <td>HYMTF</td>\n",
       "      <td>17.000000</td>\n",
       "    </tr>\n",
       "    <tr>\n",
       "      <th>4</th>\n",
       "      <td>2009-12-31</td>\n",
       "      <td>TTM</td>\n",
       "      <td>16.940001</td>\n",
       "    </tr>\n",
       "  </tbody>\n",
       "</table>\n",
       "</div>"
      ],
      "text/plain": [
       "         Date Symbol       Open\n",
       "0  2009-12-31     TM  85.160004\n",
       "1  2009-12-31      F  10.040000\n",
       "2  2009-12-31    HMC  33.840000\n",
       "3  2009-12-31  HYMTF  17.000000\n",
       "4  2009-12-31    TTM  16.940001"
      ]
     },
     "execution_count": 2,
     "metadata": {},
     "output_type": "execute_result"
    }
   ],
   "source": [
    "## * parse_dates = ['date'] as argument for read csv\n",
    "## * create a function to repeatedly plot different makes ratings vs stock with the same set up \n",
    "## Also, you can automate the creation of graphs using a loop\n",
    "##sns has hue parameter that allows to add additional dimension through color\n",
    "\n",
    "## Saved with first column as index so add index_col=[0]\n",
    "\n",
    "stocks = pd.read_csv('cleaned_data/date_symbol_open1.csv',index_col=[0])\n",
    "stocks.head()"
   ]
  },
  {
   "cell_type": "code",
   "execution_count": 3,
   "id": "6f5a68d0",
   "metadata": {},
   "outputs": [
    {
     "data": {
      "text/plain": [
       "toyota           29679\n",
       "ford             26228\n",
       "chevrolet        25020\n",
       "honda            21103\n",
       "nissan           18894\n",
       "hyundai          13640\n",
       "volkswagen       12064\n",
       "dodge            11452\n",
       "mazda            11319\n",
       "bmw              10296\n",
       "kia               8758\n",
       "mercedes-benz     8699\n",
       "lexus             8681\n",
       "jeep              8532\n",
       "acura             8261\n",
       "chrysler          7230\n",
       "pontiac           7013\n",
       "audi              6593\n",
       "infiniti          5726\n",
       "mitsubishi        5704\n",
       "volvo             5698\n",
       "cadillac          5120\n",
       "buick             4758\n",
       "lincoln           3741\n",
       "mercury           3143\n",
       "suzuki            3023\n",
       "land-rover        2500\n",
       "jaguar            2344\n",
       "saab              2125\n",
       "porsche           2104\n",
       "gmc               1660\n",
       "mini              1639\n",
       "oldsmobile        1136\n",
       "ram               1130\n",
       "isuzu              945\n",
       "subaru             806\n",
       "fiat               553\n",
       "tesla              453\n",
       "maserati           318\n",
       "alfa-romeo         221\n",
       "bentley            168\n",
       "ferrari            165\n",
       "lotus              146\n",
       "plymouth           100\n",
       "aston-martin        99\n",
       "rolls-royce         41\n",
       "Name: Company, dtype: int64"
      ]
     },
     "execution_count": 3,
     "metadata": {},
     "output_type": "execute_result"
    }
   ],
   "source": [
    "cust_reviews = pd.read_csv('cleaned_data/review_x_symbol1.csv',index_col=[0])\n",
    "cust_reviews['Company'].value_counts()"
   ]
  },
  {
   "cell_type": "code",
   "execution_count": 4,
   "id": "98c27b29",
   "metadata": {},
   "outputs": [
    {
     "data": {
      "text/plain": [
       "honda            48\n",
       "toyota           48\n",
       "bmw              48\n",
       "hyundai          48\n",
       "subaru           47\n",
       "chevrolet        47\n",
       "ford             46\n",
       "mazda            46\n",
       "kia              45\n",
       "volkswagen       44\n",
       "nissan           43\n",
       "volvo            43\n",
       "lexus            39\n",
       "audi             38\n",
       "buick            38\n",
       "cadillac         36\n",
       "mercedes-benz    36\n",
       "acura            34\n",
       "tesla            21\n",
       "Name: Company, dtype: int64"
      ]
     },
     "execution_count": 4,
     "metadata": {},
     "output_type": "execute_result"
    }
   ],
   "source": [
    "expert_reviews = pd.read_csv('cleaned_data/symbol_year_expert1.csv',index_col=[0])\n",
    "expert_reviews['Company'].value_counts()"
   ]
  },
  {
   "cell_type": "code",
   "execution_count": 24,
   "id": "f47e842e",
   "metadata": {},
   "outputs": [
    {
     "data": {
      "text/html": [
       "<div>\n",
       "<style scoped>\n",
       "    .dataframe tbody tr th:only-of-type {\n",
       "        vertical-align: middle;\n",
       "    }\n",
       "\n",
       "    .dataframe tbody tr th {\n",
       "        vertical-align: top;\n",
       "    }\n",
       "\n",
       "    .dataframe thead th {\n",
       "        text-align: right;\n",
       "    }\n",
       "</style>\n",
       "<table border=\"1\" class=\"dataframe\">\n",
       "  <thead>\n",
       "    <tr style=\"text-align: right;\">\n",
       "      <th></th>\n",
       "      <th>Rating</th>\n",
       "      <th>Expert_rating</th>\n",
       "    </tr>\n",
       "  </thead>\n",
       "  <tbody>\n",
       "    <tr>\n",
       "      <th>count</th>\n",
       "      <td>19.000000</td>\n",
       "      <td>19.000000</td>\n",
       "    </tr>\n",
       "    <tr>\n",
       "      <th>mean</th>\n",
       "      <td>8.070068</td>\n",
       "      <td>8.193453</td>\n",
       "    </tr>\n",
       "    <tr>\n",
       "      <th>std</th>\n",
       "      <td>0.255180</td>\n",
       "      <td>0.203084</td>\n",
       "    </tr>\n",
       "    <tr>\n",
       "      <th>min</th>\n",
       "      <td>7.692726</td>\n",
       "      <td>7.882353</td>\n",
       "    </tr>\n",
       "    <tr>\n",
       "      <th>25%</th>\n",
       "      <td>7.886500</td>\n",
       "      <td>8.036628</td>\n",
       "    </tr>\n",
       "    <tr>\n",
       "      <th>50%</th>\n",
       "      <td>8.062891</td>\n",
       "      <td>8.195652</td>\n",
       "    </tr>\n",
       "    <tr>\n",
       "      <th>75%</th>\n",
       "      <td>8.246120</td>\n",
       "      <td>8.322841</td>\n",
       "    </tr>\n",
       "    <tr>\n",
       "      <th>max</th>\n",
       "      <td>8.653422</td>\n",
       "      <td>8.661905</td>\n",
       "    </tr>\n",
       "  </tbody>\n",
       "</table>\n",
       "</div>"
      ],
      "text/plain": [
       "          Rating  Expert_rating\n",
       "count  19.000000      19.000000\n",
       "mean    8.070068       8.193453\n",
       "std     0.255180       0.203084\n",
       "min     7.692726       7.882353\n",
       "25%     7.886500       8.036628\n",
       "50%     8.062891       8.195652\n",
       "75%     8.246120       8.322841\n",
       "max     8.653422       8.661905"
      ]
     },
     "execution_count": 24,
     "metadata": {},
     "output_type": "execute_result"
    }
   ],
   "source": [
    "#comparison of expert vs customer reviews avg's\n",
    "## cust reviews has to be multiplied by two \n",
    "\n",
    "##visualize with superimposed bar graph\n",
    "\n",
    "customer = cust_reviews[['Company','Rating']].groupby('Company').mean().apply(lambda x: x*2).sort_values(by='Rating')\n",
    "expert = expert_reviews[['Company','Expert_rating']].groupby('Company').mean().sort_values(by='Expert_rating')\n",
    "result_review1 = customer.merge(expert, how='left', on ='Company')\n",
    "result_review1.dropna(inplace=True)\n",
    "result_review1.describe()\n"
   ]
  },
  {
   "cell_type": "code",
   "execution_count": 20,
   "id": "9b1044b4",
   "metadata": {},
   "outputs": [
    {
     "data": {
      "text/plain": [
       "<AxesSubplot:xlabel='Company'>"
      ]
     },
     "execution_count": 20,
     "metadata": {},
     "output_type": "execute_result"
    },
    {
     "data": {
      "image/png": "[encoded data removed]",
      "text/plain": [
       "<Figure size 432x288 with 1 Axes>"
      ]
     },
     "metadata": {
      "needs_background": "light"
     },
     "output_type": "display_data"
    }
   ],
   "source": [
    "## no obvious conclusion, they dont seem to match, \n",
    "## maybe clearer trend if subdivided by year \n",
    "\n",
    "##sort by diff between rating and expert_rating\n",
    "\n",
    "result_review1.plot.bar(ylim=[7.25,8.75])"
   ]
  },
  {
   "cell_type": "code",
   "execution_count": null,
   "id": "3e4dadf0",
   "metadata": {},
   "outputs": [],
   "source": [
    "## I would want to grab maybe a couple of makes and track stock performance along side expert and customer reviews \n",
    "## so as to have three lines over time "
   ]
  }
 ],
 "metadata": {
  "kernelspec": {
   "display_name": "Python 3 (ipykernel)",
   "language": "python",
   "name": "python3"
  },
  "language_info": {
   "codemirror_mode": {
    "name": "ipython",
    "version": 3
   },
   "file_extension": ".py",
   "mimetype": "text/x-python",
   "name": "python",
   "nbconvert_exporter": "python",
   "pygments_lexer": "ipython3",
   "version": "3.9.7"
  }
 },
 "nbformat": 4,
 "nbformat_minor": 5
}
